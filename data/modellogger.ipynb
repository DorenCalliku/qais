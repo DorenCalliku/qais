{
 "cells": [
  {
   "cell_type": "markdown",
   "metadata": {},
   "source": [
    "# Hey !! Let's get started"
   ]
  },
  {
   "cell_type": "code",
   "execution_count": 1,
   "metadata": {
    "scrolled": true
   },
   "outputs": [
    {
     "name": "stdout",
     "output_type": "stream",
     "text": [
      "Requirement already satisfied: modellogger in /home/delta/Desktop/qais/venv/lib/python3.6/site-packages\n",
      "Requirement already satisfied: dash in /home/delta/Desktop/qais/venv/lib/python3.6/site-packages (from modellogger)\n",
      "Requirement already satisfied: joblib in /home/delta/Desktop/qais/venv/lib/python3.6/site-packages (from modellogger)\n",
      "Requirement already satisfied: pandas in /home/delta/Desktop/qais/venv/lib/python3.6/site-packages (from modellogger)\n",
      "Requirement already satisfied: plotly in /home/delta/Desktop/qais/venv/lib/python3.6/site-packages (from modellogger)\n",
      "Requirement already satisfied: Flask>=1.0.4 in /home/delta/Desktop/qais/venv/lib/python3.6/site-packages (from dash->modellogger)\n",
      "Requirement already satisfied: dash-core-components==1.16.0 in /home/delta/Desktop/qais/venv/lib/python3.6/site-packages (from dash->modellogger)\n",
      "Requirement already satisfied: dash-html-components==1.1.3 in /home/delta/Desktop/qais/venv/lib/python3.6/site-packages (from dash->modellogger)\n",
      "Requirement already satisfied: dash-table==4.11.3 in /home/delta/Desktop/qais/venv/lib/python3.6/site-packages (from dash->modellogger)\n",
      "Requirement already satisfied: dash_renderer==1.9.1 in /home/delta/Desktop/qais/venv/lib/python3.6/site-packages (from dash->modellogger)\n",
      "Requirement already satisfied: flask-compress in /home/delta/Desktop/qais/venv/lib/python3.6/site-packages (from dash->modellogger)\n",
      "Requirement already satisfied: future in /home/delta/Desktop/qais/venv/lib/python3.6/site-packages (from dash->modellogger)\n",
      "Requirement already satisfied: numpy>=1.15.4 in /home/delta/Desktop/qais/venv/lib/python3.6/site-packages (from pandas->modellogger)\n",
      "Requirement already satisfied: python-dateutil>=2.7.3 in /home/delta/Desktop/qais/venv/lib/python3.6/site-packages (from pandas->modellogger)\n",
      "Requirement already satisfied: pytz>=2017.2 in /home/delta/Desktop/qais/venv/lib/python3.6/site-packages (from pandas->modellogger)\n",
      "Requirement already satisfied: retrying>=1.3.3 in /home/delta/Desktop/qais/venv/lib/python3.6/site-packages (from plotly->modellogger)\n",
      "Requirement already satisfied: six in /home/delta/Desktop/qais/venv/lib/python3.6/site-packages (from plotly->modellogger)\n",
      "Requirement already satisfied: Werkzeug<2.0,>=0.15 in /home/delta/Desktop/qais/venv/lib/python3.6/site-packages (from Flask>=1.0.4->dash->modellogger)\n",
      "Requirement already satisfied: itsdangerous<2.0,>=0.24 in /home/delta/Desktop/qais/venv/lib/python3.6/site-packages (from Flask>=1.0.4->dash->modellogger)\n",
      "Requirement already satisfied: click<8.0,>=5.1 in /home/delta/Desktop/qais/venv/lib/python3.6/site-packages (from Flask>=1.0.4->dash->modellogger)\n",
      "Requirement already satisfied: Jinja2<3.0,>=2.10.1 in /home/delta/Desktop/qais/venv/lib/python3.6/site-packages (from Flask>=1.0.4->dash->modellogger)\n",
      "Requirement already satisfied: brotli in /home/delta/Desktop/qais/venv/lib/python3.6/site-packages (from flask-compress->dash->modellogger)\n",
      "Requirement already satisfied: MarkupSafe>=0.23 in /home/delta/Desktop/qais/venv/lib/python3.6/site-packages (from Jinja2<3.0,>=2.10.1->Flask>=1.0.4->dash->modellogger)\n"
     ]
    }
   ],
   "source": [
    "!pip install modellogger"
   ]
  },
  {
   "cell_type": "code",
   "execution_count": 2,
   "metadata": {},
   "outputs": [],
   "source": [
    "from modellogger.modellogger import ModelLogger"
   ]
  },
  {
   "cell_type": "markdown",
   "metadata": {},
   "source": [
    "## Setup model-logger "
   ]
  },
  {
   "cell_type": "code",
   "execution_count": 3,
   "metadata": {},
   "outputs": [
    {
     "name": "stdout",
     "output_type": "stream",
     "text": [
      "Setup Completed \n"
     ]
    }
   ],
   "source": [
    "# create an instance of modellogger ,It will automatically setup the db for you :)\n",
    "\n",
    "mlog = ModelLogger('mydb.db')\n"
   ]
  },
  {
   "cell_type": "code",
   "execution_count": 4,
   "metadata": {},
   "outputs": [],
   "source": [
    "import numpy as np\n",
    "import pandas as pd\n",
    "from matplotlib import rcParams\n",
    "from sklearn.datasets import load_boston\n",
    "from sklearn.model_selection import train_test_split\n",
    "from sklearn.linear_model import LinearRegression\n",
    "from sklearn.metrics import mean_squared_error\n",
    "    \n",
    "boston = load_boston()\n",
    "bos = pd.DataFrame(boston.data)\n",
    "bos.columns = boston.feature_names\n",
    "bos['PRICE'] = boston.target"
   ]
  },
  {
   "cell_type": "code",
   "execution_count": 5,
   "metadata": {},
   "outputs": [],
   "source": [
    "from model_processing import describe_model"
   ]
  },
  {
   "cell_type": "markdown",
   "metadata": {},
   "source": [
    "# Train-->Predict-->Store-->Repeat "
   ]
  },
  {
   "cell_type": "code",
   "execution_count": 6,
   "metadata": {},
   "outputs": [
    {
     "name": "stdout",
     "output_type": "stream",
     "text": [
      "Model Name is not Unique , Please enter a name other than -\n",
      "('linear_v1',)\n",
      "('linear_v2',)\n",
      "('logistic_v1',)\n",
      "('logistic_v2',)\n",
      "Model Name is not Unique , Please enter a name other than -\n",
      "('linear_v1',)\n",
      "('linear_v2',)\n",
      "('logistic_v1',)\n",
      "('logistic_v2',)\n"
     ]
    },
    {
     "name": "stderr",
     "output_type": "stream",
     "text": [
      "/home/delta/Desktop/qais/venv/lib/python3.6/site-packages/modellogger/modellogger.py:146: UserWarning:\n",
      "\n",
      "Input warning - Not Unique Error\n",
      "\n",
      "/home/delta/Desktop/qais/venv/lib/python3.6/site-packages/modellogger/modellogger.py:146: UserWarning:\n",
      "\n",
      "Input warning - Not Unique Error\n",
      "\n"
     ]
    }
   ],
   "source": [
    "#boston house pricing dataset\n",
    "X = bos.drop('PRICE', axis = 1)\n",
    "Y = bos['PRICE']\n",
    "X_train, X_test, Y_train, Y_test =train_test_split(X, Y, test_size = 0.33, random_state = 5)\n",
    "\n",
    "#scoring\n",
    "def score(Y_test,Y_pred):\n",
    "    return mean_squared_error(Y_test,Y_pred)\n",
    "\n",
    "#train the model as normal\n",
    "lr1 = LinearRegression()\n",
    "lr1.fit(X_train, Y_train)\n",
    "Y_pred = lr1.predict(X_test)\n",
    "\n",
    "#Store the model\n",
    "mlog.store_model('logistic_v1', lr1 , X_train , score(Y_test,Y_pred))\n",
    "mlog.store_model('linear_v2', lr1 , X_train , score(Y_test,Y_pred))"
   ]
  },
  {
   "cell_type": "code",
   "execution_count": 19,
   "metadata": {},
   "outputs": [
    {
     "data": {
      "text/plain": [
       "{'model_name': 'linear_v2',\n",
       " 'accuracy': 30.596226401071096,\n",
       " 'col_num': 8,\n",
       " 'features': \"['RM', 'AGE', 'DIS', 'RAD', 'TAX', 'PTRATIO', 'B', 'LSTAT']\",\n",
       " 'parameters': {'copy_X': True,\n",
       "  'fit_intercept': True,\n",
       "  'n_jobs': None,\n",
       "  'normalize': False,\n",
       "  'positive': False},\n",
       " 'model_type': 'BaseEstimator',\n",
       " 'model': 'LinearRegression',\n",
       " 'train_size': 339}"
      ]
     },
     "execution_count": 19,
     "metadata": {},
     "output_type": "execute_result"
    }
   ],
   "source": [
    "describe_model('linear_v2', lr1 , X_train , score(Y_test,Y_pred), save_pickle=True)"
   ]
  },
  {
   "cell_type": "code",
   "execution_count": 8,
   "metadata": {},
   "outputs": [
    {
     "name": "stdout",
     "output_type": "stream",
     "text": [
      "Model Name is not Unique , Please enter a name other than -\n",
      "('linear_v1',)\n",
      "('linear_v2',)\n",
      "('logistic_v1',)\n",
      "('logistic_v2',)\n"
     ]
    },
    {
     "name": "stderr",
     "output_type": "stream",
     "text": [
      "/home/delta/Desktop/qais/venv/lib/python3.6/site-packages/modellogger/modellogger.py:146: UserWarning:\n",
      "\n",
      "Input warning - Not Unique Error\n",
      "\n"
     ]
    }
   ],
   "source": [
    "# let's train another regression model with different set of columns\n",
    "X_train =X_train[['RM', 'AGE', 'DIS', 'RAD', 'TAX','PTRATIO', 'B', 'LSTAT']] \n",
    "X_test = X_test[['RM', 'AGE', 'DIS', 'RAD', 'TAX','PTRATIO', 'B', 'LSTAT']]\n",
    "\n",
    "lr2 = LinearRegression(n_jobs=11)\n",
    "lr2.fit(X_train,Y_train)\n",
    "Y_pred = lr2.predict(X_test)\n",
    "\n",
    "mlog.store_model( 'logistic_v2' , lr2 , X_train , score(Y_test,Y_pred))"
   ]
  },
  {
   "cell_type": "code",
   "execution_count": 9,
   "metadata": {},
   "outputs": [
    {
     "name": "stdout",
     "output_type": "stream",
     "text": [
      "Model Name is not Unique , Please enter a name other than -\n",
      "('linear_v1',)\n",
      "('linear_v2',)\n",
      "('logistic_v1',)\n",
      "('logistic_v2',)\n"
     ]
    },
    {
     "name": "stderr",
     "output_type": "stream",
     "text": [
      "/home/delta/Desktop/qais/venv/lib/python3.6/site-packages/modellogger/modellogger.py:146: UserWarning:\n",
      "\n",
      "Input warning - Not Unique Error\n",
      "\n"
     ]
    }
   ],
   "source": [
    "#mlog.store_model( 'logistic_v3' , lr2 , X_train , score(Y_test,Y_pred))\n",
    "mlog.store_model( 'linear_v1' , lr2 , X_train , score(Y_test,Y_pred))"
   ]
  },
  {
   "cell_type": "markdown",
   "metadata": {},
   "source": [
    "# Quick Sneak - peek"
   ]
  },
  {
   "cell_type": "code",
   "execution_count": 10,
   "metadata": {},
   "outputs": [
    {
     "data": {
      "text/plain": [
       "\"'copy_X': True, 'fit_intercept': True, 'n_jobs': None, 'normalize': False, 'positive': False\""
      ]
     },
     "execution_count": 10,
     "metadata": {},
     "output_type": "execute_result"
    }
   ],
   "source": [
    "data = mlog.view_results()\n",
    "data['Parameters'].iloc[0]"
   ]
  },
  {
   "cell_type": "markdown",
   "metadata": {},
   "source": [
    "# Delete a model entry by 'model name'"
   ]
  },
  {
   "cell_type": "code",
   "execution_count": 11,
   "metadata": {},
   "outputs": [
    {
     "data": {
      "text/html": [
       "<div>\n",
       "<style scoped>\n",
       "    .dataframe tbody tr th:only-of-type {\n",
       "        vertical-align: middle;\n",
       "    }\n",
       "\n",
       "    .dataframe tbody tr th {\n",
       "        vertical-align: top;\n",
       "    }\n",
       "\n",
       "    .dataframe thead th {\n",
       "        text-align: right;\n",
       "    }\n",
       "</style>\n",
       "<table border=\"1\" class=\"dataframe\">\n",
       "  <thead>\n",
       "    <tr style=\"text-align: right;\">\n",
       "      <th></th>\n",
       "      <th>Model id</th>\n",
       "      <th>Model Name</th>\n",
       "      <th>Val Score</th>\n",
       "      <th>Test Score</th>\n",
       "      <th>Num cols</th>\n",
       "      <th>Feature List</th>\n",
       "      <th>Parameters</th>\n",
       "      <th>Model_type</th>\n",
       "      <th>Model</th>\n",
       "      <th>NumCat</th>\n",
       "      <th>NumCont</th>\n",
       "      <th>Train size</th>\n",
       "    </tr>\n",
       "  </thead>\n",
       "  <tbody>\n",
       "    <tr>\n",
       "      <th>0</th>\n",
       "      <td>1</td>\n",
       "      <td>logistic_v1</td>\n",
       "      <td>28.530459</td>\n",
       "      <td>None</td>\n",
       "      <td>13</td>\n",
       "      <td>['CRIM', 'ZN', 'INDUS', 'CHAS', 'NOX', 'RM', '...</td>\n",
       "      <td>'copy_X': True, 'fit_intercept': True, 'n_jobs...</td>\n",
       "      <td>BaseEstimator</td>\n",
       "      <td>LinearRegression</td>\n",
       "      <td>7</td>\n",
       "      <td>6</td>\n",
       "      <td>339</td>\n",
       "    </tr>\n",
       "    <tr>\n",
       "      <th>1</th>\n",
       "      <td>2</td>\n",
       "      <td>linear_v2</td>\n",
       "      <td>28.530459</td>\n",
       "      <td>None</td>\n",
       "      <td>13</td>\n",
       "      <td>['CRIM', 'ZN', 'INDUS', 'CHAS', 'NOX', 'RM', '...</td>\n",
       "      <td>'copy_X': True, 'fit_intercept': True, 'n_jobs...</td>\n",
       "      <td>BaseEstimator</td>\n",
       "      <td>LinearRegression</td>\n",
       "      <td>7</td>\n",
       "      <td>6</td>\n",
       "      <td>339</td>\n",
       "    </tr>\n",
       "    <tr>\n",
       "      <th>2</th>\n",
       "      <td>3</td>\n",
       "      <td>logistic_v2</td>\n",
       "      <td>30.596226</td>\n",
       "      <td>None</td>\n",
       "      <td>8</td>\n",
       "      <td>['RM', 'AGE', 'DIS', 'RAD', 'TAX', 'PTRATIO', ...</td>\n",
       "      <td>'copy_X': True, 'fit_intercept': True, 'n_jobs...</td>\n",
       "      <td>BaseEstimator</td>\n",
       "      <td>LinearRegression</td>\n",
       "      <td>3</td>\n",
       "      <td>5</td>\n",
       "      <td>339</td>\n",
       "    </tr>\n",
       "    <tr>\n",
       "      <th>3</th>\n",
       "      <td>4</td>\n",
       "      <td>linear_v1</td>\n",
       "      <td>30.596226</td>\n",
       "      <td>None</td>\n",
       "      <td>8</td>\n",
       "      <td>['RM', 'AGE', 'DIS', 'RAD', 'TAX', 'PTRATIO', ...</td>\n",
       "      <td>'copy_X': True, 'fit_intercept': True, 'n_jobs...</td>\n",
       "      <td>BaseEstimator</td>\n",
       "      <td>LinearRegression</td>\n",
       "      <td>3</td>\n",
       "      <td>5</td>\n",
       "      <td>339</td>\n",
       "    </tr>\n",
       "  </tbody>\n",
       "</table>\n",
       "</div>"
      ],
      "text/plain": [
       "   Model id   Model Name  Val Score Test Score  Num cols  \\\n",
       "0         1  logistic_v1  28.530459       None        13   \n",
       "1         2    linear_v2  28.530459       None        13   \n",
       "2         3  logistic_v2  30.596226       None         8   \n",
       "3         4    linear_v1  30.596226       None         8   \n",
       "\n",
       "                                        Feature List  \\\n",
       "0  ['CRIM', 'ZN', 'INDUS', 'CHAS', 'NOX', 'RM', '...   \n",
       "1  ['CRIM', 'ZN', 'INDUS', 'CHAS', 'NOX', 'RM', '...   \n",
       "2  ['RM', 'AGE', 'DIS', 'RAD', 'TAX', 'PTRATIO', ...   \n",
       "3  ['RM', 'AGE', 'DIS', 'RAD', 'TAX', 'PTRATIO', ...   \n",
       "\n",
       "                                          Parameters      Model_type  \\\n",
       "0  'copy_X': True, 'fit_intercept': True, 'n_jobs...   BaseEstimator   \n",
       "1  'copy_X': True, 'fit_intercept': True, 'n_jobs...   BaseEstimator   \n",
       "2  'copy_X': True, 'fit_intercept': True, 'n_jobs...   BaseEstimator   \n",
       "3  'copy_X': True, 'fit_intercept': True, 'n_jobs...   BaseEstimator   \n",
       "\n",
       "               Model  NumCat  NumCont  Train size  \n",
       "0   LinearRegression       7        6         339  \n",
       "1   LinearRegression       7        6         339  \n",
       "2   LinearRegression       3        5         339  \n",
       "3   LinearRegression       3        5         339  "
      ]
     },
     "execution_count": 11,
     "metadata": {},
     "output_type": "execute_result"
    }
   ],
   "source": [
    "mlog.view_results()"
   ]
  },
  {
   "cell_type": "code",
   "execution_count": 12,
   "metadata": {},
   "outputs": [],
   "source": [
    "mlog.delete_model(Model_Name='logistic_v1')"
   ]
  },
  {
   "cell_type": "code",
   "execution_count": 13,
   "metadata": {},
   "outputs": [],
   "source": [
    "mlog.delete_model(Model_id= 4)"
   ]
  },
  {
   "cell_type": "code",
   "execution_count": 14,
   "metadata": {},
   "outputs": [],
   "source": [
    "mlog.delete_all()"
   ]
  },
  {
   "cell_type": "markdown",
   "metadata": {},
   "source": [
    "# Model profiling - The fun part begins !!"
   ]
  },
  {
   "cell_type": "code",
   "execution_count": 15,
   "metadata": {
    "scrolled": true
   },
   "outputs": [
    {
     "name": "stdout",
     "output_type": "stream",
     "text": [
      "Setup Completed \n"
     ]
    }
   ],
   "source": [
    "#sample database can be found in github modellogger.github.io/assests/sample\n",
    "#run it local machine not in colab \n",
    "\n",
    "mlog = ModelLogger('mydb.db')"
   ]
  },
  {
   "cell_type": "code",
   "execution_count": 16,
   "metadata": {
    "scrolled": true
   },
   "outputs": [
    {
     "name": "stdout",
     "output_type": "stream",
     "text": [
      "To Stop The Server In Jupyter Notebook Use Kernel Interrupt\n",
      "Batch Size : 0\n",
      "Dash is running on http://127.0.0.1:8050/\n",
      "\n",
      " * Serving Flask app \"modellogger.modellogger\" (lazy loading)\n",
      " * Environment: production\n",
      "\u001b[31m   WARNING: This is a development server. Do not use it in a production deployment.\u001b[0m\n",
      "\u001b[2m   Use a production WSGI server instead.\u001b[0m\n",
      " * Debug mode: off\n"
     ]
    },
    {
     "name": "stderr",
     "output_type": "stream",
     "text": [
      " * Running on http://127.0.0.1:8050/ (Press CTRL+C to quit)\n"
     ]
    }
   ],
   "source": [
    "mlog.model_profiles()"
   ]
  },
  {
   "cell_type": "code",
   "execution_count": null,
   "metadata": {},
   "outputs": [],
   "source": []
  },
  {
   "cell_type": "code",
   "execution_count": 17,
   "metadata": {},
   "outputs": [
    {
     "name": "stdout",
     "output_type": "stream",
     "text": [
      "<---------------model-logger--------------->\n",
      "Description : model-logger is a Python library for storing model's profile and rapid inter model comparision./n Powered by dash and SQLITE3, It's compact ,light weight ,interactive yet powerful tool to gain usefull insights. \n",
      "Version : modellogger==0.2.3\n",
      "Documentation : https://github.com/SohamPathak/modellogger.github.io\n",
      "Requirements docs : https://github.com/SohamPathak/modellogger.github.io/blob/master/requirements.txt \n",
      "Have suggestions ? ping me up -- https://www.linkedin.com/in/kaisersoham/\n"
     ]
    }
   ],
   "source": [
    "#Please refer to the documentaion if you face any issue with parameters\n",
    "mlog.info()"
   ]
  },
  {
   "cell_type": "code",
   "execution_count": null,
   "metadata": {},
   "outputs": [],
   "source": []
  }
 ],
 "metadata": {
  "kernelspec": {
   "display_name": "Python 3",
   "language": "python",
   "name": "python3"
  },
  "language_info": {
   "codemirror_mode": {
    "name": "ipython",
    "version": 3
   },
   "file_extension": ".py",
   "mimetype": "text/x-python",
   "name": "python",
   "nbconvert_exporter": "python",
   "pygments_lexer": "ipython3",
   "version": "3.6.9"
  }
 },
 "nbformat": 4,
 "nbformat_minor": 2
}
