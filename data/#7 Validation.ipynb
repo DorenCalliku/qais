{
 "cells": [
  {
   "cell_type": "code",
   "execution_count": 48,
   "id": "1f2587dc",
   "metadata": {},
   "outputs": [],
   "source": [
    "import json, sys, time\n",
    "import pandas as pd \n",
    "import pickle \n",
    "import sqlalchemy as sq\n",
    "\n",
    "# ML tasks\n",
    "from sklearn.model_selection import train_test_split\n",
    "from sklearn.linear_model import SGDClassifier, LogisticRegression, Perceptron"
   ]
  },
  {
   "cell_type": "code",
   "execution_count": 49,
   "id": "db280ed2",
   "metadata": {},
   "outputs": [],
   "source": [
    "from load import stream_bulks, data_full, BULK_SIZE\n",
    "from pm_processing import describe_model"
   ]
  },
  {
   "cell_type": "code",
   "execution_count": 76,
   "id": "9114df74",
   "metadata": {},
   "outputs": [],
   "source": [
    "import time\n",
    "import sqlite3\n",
    "\n",
    "from sqlalchemy.ext.declarative import declarative_base\n",
    "from sqlalchemy import Column, Integer, String,  create_engine, LargeBinary\n",
    "from sqlalchemy.orm import scoped_session, sessionmaker\n",
    "\n",
    "Base = declarative_base()\n",
    "DBSession = scoped_session(sessionmaker())\n",
    "engine = None\n",
    "\n",
    "\n",
    "class PM(Base):\n",
    "    __tablename__ = \"pm\"\n",
    "    id = Column(Integer, primary_key=True)\n",
    "    model = Column(LargeBinary)\n",
    "\n",
    "\n",
    "def init_sqlalchemy(dbname='sqlite:///sqlalchemy.db'):\n",
    "    global engine\n",
    "    engine = create_engine(dbname, echo=False)\n",
    "    DBSession.remove()\n",
    "    DBSession.configure(bind=engine, autoflush=False, expire_on_commit=False)\n",
    "    Base.metadata.drop_all(engine)\n",
    "    Base.metadata.create_all(engine)\n",
    "\n",
    "\n",
    "def insert_sqlalchemy_orm(model):\n",
    "    init_sqlalchemy()\n",
    "    pm = PM()\n",
    "    pm.model = model\n",
    "    DBSession.add(pm)\n",
    "    DBSession.commit()\n",
    "\n",
    "def get_last():\n",
    "    return DBSession.query(PM).order_by(PM.id.desc()).first()"
   ]
  },
  {
   "cell_type": "code",
   "execution_count": 77,
   "id": "e5ff307a",
   "metadata": {},
   "outputs": [],
   "source": [
    "init_sqlalchemy()\n",
    "assert get_last() == None"
   ]
  },
  {
   "cell_type": "code",
   "execution_count": null,
   "id": "f9d5528a",
   "metadata": {},
   "outputs": [
    {
     "name": "stdout",
     "output_type": "stream",
     "text": [
      "0\n",
      "100\n"
     ]
    }
   ],
   "source": [
    "values = []\n",
    "for i, json_dicts in enumerate(stream_bulks(data_full, BULK_SIZE)):\n",
    "    if i % 100 ==0 : \n",
    "        print(i)\n",
    "    if i > 500:\n",
    "        break\n",
    "    if i == 0:\n",
    "        model = SGDClassifier()\n",
    "    else: \n",
    "        previous_pickle = get_last().model\n",
    "        model = pickle.loads(previous_pickle)\n",
    "    df = pd.DataFrame(json.loads(json_dicts))\n",
    "    dataset = df[['competence','network_ability','promoted']] # skip id\n",
    "    X_vals = dataset.iloc[:, :-1].values\n",
    "    y_vals = dataset.iloc[:, -1].values\n",
    "\n",
    "    # if not first model, test with the same data\n",
    "    if i != 0:\n",
    "        test_start = time.time()\n",
    "        values[-1]['accuracy'] = model.score(X_vals, y_vals)\n",
    "        values[-1]['test_time'] = time.time() - test_start\n",
    "        values[-1]['test_pos'] = int(sum(y_vals))\n",
    "\n",
    "    # train model \n",
    "    values.append({})\n",
    "    \n",
    "    train_start = time.time()\n",
    "    model.partial_fit(X_vals, y_vals, classes=[0,1])\n",
    "    values[-1]['train_time'] = time.time() - train_start\n",
    "    values[-1]['train_pos'] = int(sum(y_vals))\n",
    "\n",
    "    # extract parameters\n",
    "    model_description = describe_model(\n",
    "        'model',model,dataset.iloc[:, :-1],None\n",
    "    )\n",
    "    values[-1] = {**values[-1],**model_description}\n",
    "    # store model\n",
    "    previous_pickle = pickle.dumps(model)\n",
    "    insert_sqlalchemy_orm(previous_pickle)\n",
    "    #print(get_last().model)"
   ]
  },
  {
   "cell_type": "code",
   "execution_count": 57,
   "id": "4d16768e",
   "metadata": {},
   "outputs": [],
   "source": [
    "df_validation = pd.DataFrame(values)"
   ]
  },
  {
   "cell_type": "code",
   "execution_count": 58,
   "id": "6d6aef3d",
   "metadata": {},
   "outputs": [
    {
     "data": {
      "text/plain": [
       "<AxesSubplot:xlabel='index'>"
      ]
     },
     "execution_count": 58,
     "metadata": {},
     "output_type": "execute_result"
    },
    {
     "data": {
      "image/png": "[encoded data removed]",
      "text/plain": [
       "<Figure size 432x288 with 1 Axes>"
      ]
     },
     "metadata": {
      "needs_background": "light"
     },
     "output_type": "display_data"
    }
   ],
   "source": [
    "df_validation.reset_index().plot(x='index', y='accuracy')"
   ]
  },
  {
   "cell_type": "code",
   "execution_count": null,
   "id": "34acb9f2",
   "metadata": {},
   "outputs": [],
   "source": []
  },
  {
   "cell_type": "code",
   "execution_count": null,
   "id": "133f8fea",
   "metadata": {},
   "outputs": [],
   "source": [
    "test_sqlalchemy_orm(100000)\n",
    "test_sqlalchemy_orm_pk_given(100000)\n",
    "test_sqlalchemy_orm_bulk_insert(100000)\n",
    "test_sqlalchemy_core(100000)\n",
    "test_sqlite3(100000)"
   ]
  }
 ],
 "metadata": {
  "kernelspec": {
   "display_name": "Python 3",
   "language": "python",
   "name": "python3"
  },
  "language_info": {
   "codemirror_mode": {
    "name": "ipython",
    "version": 3
   },
   "file_extension": ".py",
   "mimetype": "text/x-python",
   "name": "python",
   "nbconvert_exporter": "python",
   "pygments_lexer": "ipython3",
   "version": "3.6.9"
  }
 },
 "nbformat": 4,
 "nbformat_minor": 5
}
